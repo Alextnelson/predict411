{
 "cells": [
  {
   "cell_type": "markdown",
   "metadata": {},
   "source": [
    "# Chapter 1 Excercises\n",
    "A review of the linear regression model\n",
    "\n",
    "We'll prepare our environment below, then dive into the questions."
   ]
  },
  {
   "cell_type": "code",
   "execution_count": 20,
   "metadata": {
    "collapsed": true
   },
   "outputs": [],
   "source": [
    "# For All Maths\n",
    "import numpy as np\n",
    "import pandas as pd\n",
    "from sas7bdat import SAS7BDAT\n",
    "import statsmodels.api as sm\n",
    "from patsy import dmatrices\n",
    "\n",
    "# For All Visualization\n",
    "%matplotlib inline\n",
    "import matplotlib.pyplot as plt\n",
    "import matplotlib.pylab as pylab\n",
    "pylab.rcParams['figure.figsize'] = 12, 8\n",
    "import seaborn as sns\n",
    "sns.set_palette(\"deep\", desat=.6)"
   ]
  },
  {
   "cell_type": "code",
   "execution_count": 21,
   "metadata": {
    "collapsed": false
   },
   "outputs": [],
   "source": [
    "# Load the data for this chapter\n",
    "with SAS7BDAT('gpa.sas7bdat') as f:\n",
    "    df = f.to_data_frame()"
   ]
  },
  {
   "cell_type": "markdown",
   "metadata": {},
   "source": [
    "## Question 1:\n",
    "The following data are from a sample of college students who completed their first year shortly before the information was collected. The data set includes variables gauging first-year college grade point avergage (GPA) and incoming scholastic aptitude test (SAT) scores for the verbal and quantitative portions of the test. The SAT scores are divided by 100. Our goal is to analyze the linear associations among these variables. We'll begin with a subset of these data."
   ]
  },
  {
   "cell_type": "code",
   "execution_count": 22,
   "metadata": {
    "collapsed": false
   },
   "outputs": [
    {
     "data": {
      "text/html": [
       "<div>\n",
       "<table border=\"1\" class=\"dataframe\">\n",
       "  <thead>\n",
       "    <tr style=\"text-align: right;\">\n",
       "      <th></th>\n",
       "      <th>GPA</th>\n",
       "      <th>SAT_QUAN</th>\n",
       "      <th>SAT_VERB</th>\n",
       "      <th>HS_MATH</th>\n",
       "      <th>HS_ENGL</th>\n",
       "    </tr>\n",
       "  </thead>\n",
       "  <tbody>\n",
       "    <tr>\n",
       "      <th>0</th>\n",
       "      <td>1.97</td>\n",
       "      <td>3.21</td>\n",
       "      <td>2.47</td>\n",
       "      <td>2.30</td>\n",
       "      <td>2.63</td>\n",
       "    </tr>\n",
       "    <tr>\n",
       "      <th>1</th>\n",
       "      <td>2.74</td>\n",
       "      <td>7.18</td>\n",
       "      <td>4.36</td>\n",
       "      <td>3.80</td>\n",
       "      <td>3.57</td>\n",
       "    </tr>\n",
       "    <tr>\n",
       "      <th>2</th>\n",
       "      <td>2.19</td>\n",
       "      <td>3.58</td>\n",
       "      <td>5.78</td>\n",
       "      <td>2.98</td>\n",
       "      <td>2.57</td>\n",
       "    </tr>\n",
       "    <tr>\n",
       "      <th>3</th>\n",
       "      <td>2.60</td>\n",
       "      <td>4.03</td>\n",
       "      <td>4.47</td>\n",
       "      <td>3.58</td>\n",
       "      <td>2.21</td>\n",
       "    </tr>\n",
       "    <tr>\n",
       "      <th>4</th>\n",
       "      <td>2.98</td>\n",
       "      <td>6.40</td>\n",
       "      <td>5.63</td>\n",
       "      <td>3.38</td>\n",
       "      <td>3.48</td>\n",
       "    </tr>\n",
       "    <tr>\n",
       "      <th>5</th>\n",
       "      <td>1.65</td>\n",
       "      <td>2.37</td>\n",
       "      <td>3.42</td>\n",
       "      <td>1.48</td>\n",
       "      <td>2.14</td>\n",
       "    </tr>\n",
       "    <tr>\n",
       "      <th>6</th>\n",
       "      <td>1.89</td>\n",
       "      <td>2.70</td>\n",
       "      <td>4.72</td>\n",
       "      <td>1.67</td>\n",
       "      <td>2.64</td>\n",
       "    </tr>\n",
       "    <tr>\n",
       "      <th>7</th>\n",
       "      <td>2.38</td>\n",
       "      <td>4.18</td>\n",
       "      <td>3.56</td>\n",
       "      <td>3.73</td>\n",
       "      <td>2.52</td>\n",
       "    </tr>\n",
       "  </tbody>\n",
       "</table>\n",
       "</div>"
      ],
      "text/plain": [
       "    GPA  SAT_QUAN  SAT_VERB  HS_MATH  HS_ENGL\n",
       "0  1.97      3.21      2.47     2.30     2.63\n",
       "1  2.74      7.18      4.36     3.80     3.57\n",
       "2  2.19      3.58      5.78     2.98     2.57\n",
       "3  2.60      4.03      4.47     3.58     2.21\n",
       "4  2.98      6.40      5.63     3.38     3.48\n",
       "5  1.65      2.37      3.42     1.48     2.14\n",
       "6  1.89      2.70      4.72     1.67     2.64\n",
       "7  2.38      4.18      3.56     3.73     2.52"
      ]
     },
     "execution_count": 22,
     "metadata": {},
     "output_type": "execute_result"
    }
   ],
   "source": [
    "df.head(8)"
   ]
  },
  {
   "cell_type": "markdown",
   "metadata": {},
   "source": [
    "### Part A:\n",
    "Construct a scatterplot with GPA on the y-axis and SAT-Quant. on the x-axis. Fit by hand the estimated linear regression line. Comment on the relationship between these two variables.\n",
    "\n",
    "__Answer__: Instead of fitting by hand, we will plot the full (all records) scatterplot below and comment on the relationship between the two variables."
   ]
  },
  {
   "cell_type": "code",
   "execution_count": 23,
   "metadata": {
    "collapsed": false
   },
   "outputs": [
    {
     "data": {
      "image/png": "[encoded data removed]",
      "text/plain": [
       "<matplotlib.figure.Figure at 0x7f2153600e50>"
      ]
     },
     "metadata": {},
     "output_type": "display_data"
    }
   ],
   "source": [
    "plt.scatter(df['SAT_QUAN'], df['GPA'])\n",
    "plt.title('Scatterplot of GPA and SAT-Quant')\n",
    "plt.xlabel('SAT-Quant')\n",
    "plt.ylabel('GPA');"
   ]
  },
  {
   "cell_type": "markdown",
   "metadata": {},
   "source": [
    "We first notice that there are not any extreme outliers, further that there doesn't appear to be a strong indication of different populations (clustering). We observe that if we were to draw a line that would be an attempt at 'fit by hand', it would observe a generally positive trend between SAT-Quant. and GPA."
   ]
  },
  {
   "cell_type": "markdown",
   "metadata": {},
   "source": [
    "### Part B:\n",
    "Using the formulas for a two-variable OLS regression model, compute the slope and intercept for the follwoing model: $GPA = \\alpha + \\beta_1(\\text{SAT-Quant})$.\n",
    "\n",
    "__Answer__: Using the formula $$\\hat{\\beta_1} = \\frac{\\sum_{i=1}^n(X_i-\\bar{X})(Y_i-\\bar{Y})}{\\sum_{i=1}^n(X_i-\\bar{X})^2}$$"
   ]
  },
  {
   "cell_type": "code",
   "execution_count": 24,
   "metadata": {
    "collapsed": false
   },
   "outputs": [
    {
     "name": "stdout",
     "output_type": "stream",
     "text": [
      "0.239175919707\n"
     ]
    }
   ],
   "source": [
    "x = df['SAT_QUAN'][:8].tolist()\n",
    "y = df['GPA'][:8].tolist()\n",
    "x_mean = np.mean(x)\n",
    "y_mean = np.mean(y)\n",
    "\n",
    "beta_hat = sum((a - x_mean)*(b - y_mean) for a,b in zip(x,y)) / sum(np.square(a - x_mean) for a in x)\n",
    "print(beta_hat)"
   ]
  },
  {
   "cell_type": "markdown",
   "metadata": {},
   "source": [
    "We will also compute the intercept using the formula: $$\\hat{\\alpha} = \\bar{Y} - \\hat{\\beta_1}\\bar{X}$$"
   ]
  },
  {
   "cell_type": "code",
   "execution_count": 25,
   "metadata": {
    "collapsed": false
   },
   "outputs": [
    {
     "name": "stdout",
     "output_type": "stream",
     "text": [
      "1.29396628773\n"
     ]
    }
   ],
   "source": [
    "alpha_hat = y_mean - beta_hat * x_mean\n",
    "print(alpha_hat)"
   ]
  },
  {
   "cell_type": "markdown",
   "metadata": {},
   "source": [
    "### Part C:\n",
    "Compute the predicted values, the residuals, the Sum of Square Errors (SSE), and the $R^2$ for the model.\n",
    "\n",
    "We will compute the predicted values by using our regression equation and computed parameters above, in the equation: $$GPA = 1.2939 + 0.2391 (\\mbox{SAT-Quant})$$"
   ]
  },
  {
   "cell_type": "code",
   "execution_count": 26,
   "metadata": {
    "collapsed": false
   },
   "outputs": [
    {
     "name": "stdout",
     "output_type": "stream",
     "text": [
      "[2.0614110000000001, 3.0106380000000001, 2.1498780000000002, 2.2574730000000001, 2.8241399999999999, 1.8605670000000001, 1.93947, 2.2933379999999999]\n"
     ]
    }
   ],
   "source": [
    "y_hat = [(1.2939 + 0.2391 * a) for a in x]\n",
    "print(y_hat)"
   ]
  },
  {
   "cell_type": "markdown",
   "metadata": {},
   "source": [
    "We will compute residuals using the formula: $$R_i = Y_i - \\hat{Y}$$"
   ]
  },
  {
   "cell_type": "code",
   "execution_count": 27,
   "metadata": {
    "collapsed": false
   },
   "outputs": [
    {
     "name": "stdout",
     "output_type": "stream",
     "text": [
      "[-0.091411000000000131, -0.27063799999999993, 0.040121999999999769, 0.34252700000000003, 0.15586000000000011, -0.21056700000000017, -0.049470000000000125, 0.086662000000000017]\n"
     ]
    }
   ],
   "source": [
    "r = [a - b for a,b in zip(y, y_hat)]\n",
    "print(r)"
   ]
  },
  {
   "cell_type": "markdown",
   "metadata": {},
   "source": [
    "We will compute the Sum of Square Errors (SSE) using the formula: $$SSE = \\sum_{i=1}^n(Y_i - \\hat{Y_i})^2$$"
   ]
  },
  {
   "cell_type": "code",
   "execution_count": 28,
   "metadata": {
    "collapsed": false
   },
   "outputs": [
    {
     "name": "stdout",
     "output_type": "stream",
     "text": [
      "0.279123802811\n"
     ]
    }
   ],
   "source": [
    "sse = sum([np.square(a - b) for a,b in zip(y, y_hat)])\n",
    "print(sse)"
   ]
  },
  {
   "cell_type": "markdown",
   "metadata": {},
   "source": [
    "We will compute the $R^2$ using the formula: $$R^2 = 1- \\frac{SSE}{SST}$$ where SSE is enumerated above and SST is: $$SST = \\sum_i^n(Y_i - \\bar{Y})^2$$"
   ]
  },
  {
   "cell_type": "code",
   "execution_count": 29,
   "metadata": {
    "collapsed": false
   },
   "outputs": [
    {
     "name": "stdout",
     "output_type": "stream",
     "text": [
      "0.809341664747\n"
     ]
    }
   ],
   "source": [
    "sst = sum([np.square(a - y_mean) for a in y])\n",
    "r_square = 1 - sse / sst\n",
    "print(r_square)"
   ]
  },
  {
   "cell_type": "markdown",
   "metadata": {},
   "source": [
    "### Part D:\n",
    "Plot the residuals (y-axis) by the predicted values (x-axis) and comment about what you see"
   ]
  },
  {
   "cell_type": "code",
   "execution_count": 30,
   "metadata": {
    "collapsed": false
   },
   "outputs": [
    {
     "data": {
      "image/png": "[encoded data removed]",
      "text/plain": [
       "<matplotlib.figure.Figure at 0x7f21534112d0>"
      ]
     },
     "metadata": {},
     "output_type": "display_data"
    }
   ],
   "source": [
    "plt.scatter(y_hat, r)\n",
    "plt.title('Scatterplot of Residuals and Predicted Values')\n",
    "plt.xlabel('Predicted Values ($\\hat{Y}$)')\n",
    "plt.ylabel('Residuals');"
   ]
  },
  {
   "cell_type": "markdown",
   "metadata": {},
   "source": [
    "We use this plot to eek out whether we believe that there exists heteroscedastic errors. In this case, we're seeing (in the sample of 8) that there is a fan shape starting in the bottom left and expanding rightward. This is a pretty early projection of what we 'see' in the data because there are only a few points. We'd want to run our regression on more data before we felt confident that we detected heteroscedasticity."
   ]
  },
  {
   "cell_type": "markdown",
   "metadata": {},
   "source": [
    "## Question 2:\n",
    "The data set GPA is available in SPSS, Stata, and SAS formats. It contains all 20 observations from the sample of college students. We'll use it to conduct the remaining excercises.\n",
    "\n",
    "### Part A:\n",
    "Estimate an OLS regression model with GPA as the dependent variable and SAT-Quant. as the independent variable. Compare this model to the model you estimated in Excercise 1. In what ways are they similar or different?"
   ]
  },
  {
   "cell_type": "code",
   "execution_count": 31,
   "metadata": {
    "collapsed": false
   },
   "outputs": [
    {
     "name": "stdout",
     "output_type": "stream",
     "text": [
      "                            OLS Regression Results                            \n",
      "==============================================================================\n",
      "Dep. Variable:                    GPA   R-squared:                       0.722\n",
      "Model:                            OLS   Adj. R-squared:                  0.706\n",
      "Method:                 Least Squares   F-statistic:                     46.68\n",
      "Date:                Sun, 23 Aug 2015   Prob (F-statistic):           2.15e-06\n",
      "Time:                        12:19:31   Log-Likelihood:                -5.5719\n",
      "No. Observations:                  20   AIC:                             15.14\n",
      "Df Residuals:                      18   BIC:                             17.14\n",
      "Df Model:                           1                                         \n",
      "Covariance Type:            nonrobust                                         \n",
      "==============================================================================\n",
      "                 coef    std err          t      P>|t|      [95.0% Conf. Int.]\n",
      "------------------------------------------------------------------------------\n",
      "Intercept      0.9670      0.250      3.874      0.001         0.443     1.491\n",
      "SAT_QUAN       0.3178      0.047      6.832      0.000         0.220     0.416\n",
      "==============================================================================\n",
      "Omnibus:                        0.075   Durbin-Watson:                   2.807\n",
      "Prob(Omnibus):                  0.963   Jarque-Bera (JB):                0.279\n",
      "Skew:                          -0.092   Prob(JB):                        0.870\n",
      "Kurtosis:                       2.452   Cond. No.                         18.3\n",
      "==============================================================================\n",
      "\n",
      "Warnings:\n",
      "[1] Standard Errors assume that the covariance matrix of the errors is correctly specified.\n"
     ]
    }
   ],
   "source": [
    "y, X = dmatrices('GPA ~ SAT_QUAN', data=df, return_type='dataframe')\n",
    "model = sm.OLS(y, X)\n",
    "results = model.fit()\n",
    "print results.summary()"
   ]
  },
  {
   "cell_type": "markdown",
   "metadata": {},
   "source": [
    "We'll compare the OLS that was performed by the computer, with ours by hand below:\n",
    "\n",
    "| Diagnostic | Computer | Hand |\n",
    "|:----------:|:--------:|:----:|\n",
    "| $\\beta$ | 0.3178 | 0.2391 |\n",
    "| $\\alpha$ | 0.9670 | 1.2939 |\n",
    "| $R^2$ | 0.722 | 0.8093 |\n",
    "\n",
    "We believe that if we'd adjust the computer (which we did to test our calculations) to only sample 8 of the 20 records, we would get the same values. We see there is a difference in all of the values, naturally this is occuring because we're calculating from two different sets of data. We see that the initial $\\beta$ value for the subset has a lower rate of change than the greater set."
   ]
  },
  {
   "cell_type": "markdown",
   "metadata": {},
   "source": [
    "## Question 3:\n",
    "Estimate the following three OLS regression models, all of which use GPA as the dependent variable:\n",
    "\n",
    "### Part A:\n",
    "Use only HS_ENGL as the independent variable"
   ]
  },
  {
   "cell_type": "code",
   "execution_count": 32,
   "metadata": {
    "collapsed": false
   },
   "outputs": [
    {
     "name": "stdout",
     "output_type": "stream",
     "text": [
      "                            OLS Regression Results                            \n",
      "==============================================================================\n",
      "Dep. Variable:                    GPA   R-squared:                       0.368\n",
      "Model:                            OLS   Adj. R-squared:                  0.333\n",
      "Method:                 Least Squares   F-statistic:                     10.47\n",
      "Date:                Sun, 23 Aug 2015   Prob (F-statistic):            0.00458\n",
      "Time:                        12:19:31   Log-Likelihood:                -13.777\n",
      "No. Observations:                  20   AIC:                             31.55\n",
      "Df Residuals:                      18   BIC:                             33.55\n",
      "Df Model:                           1                                         \n",
      "Covariance Type:            nonrobust                                         \n",
      "==============================================================================\n",
      "                 coef    std err          t      P>|t|      [95.0% Conf. Int.]\n",
      "------------------------------------------------------------------------------\n",
      "Intercept      0.2487      0.733      0.339      0.738        -1.292     1.789\n",
      "HS_ENGL        0.7790      0.241      3.236      0.005         0.273     1.285\n",
      "==============================================================================\n",
      "Omnibus:                        0.077   Durbin-Watson:                   2.488\n",
      "Prob(Omnibus):                  0.962   Jarque-Bera (JB):                0.273\n",
      "Skew:                           0.102   Prob(JB):                        0.872\n",
      "Kurtosis:                       2.466   Cond. No.                         21.7\n",
      "==============================================================================\n",
      "\n",
      "Warnings:\n",
      "[1] Standard Errors assume that the covariance matrix of the errors is correctly specified.\n"
     ]
    }
   ],
   "source": [
    "y, X = dmatrices('GPA ~ HS_ENGL', data=df, return_type='dataframe')\n",
    "model = sm.OLS(y, X)\n",
    "results = model.fit()\n",
    "print results.summary()"
   ]
  },
  {
   "cell_type": "markdown",
   "metadata": {},
   "source": [
    "### Part B:\n",
    "Use HS_ENGL and SAT_VERB as the independent variables"
   ]
  },
  {
   "cell_type": "code",
   "execution_count": 33,
   "metadata": {
    "collapsed": false
   },
   "outputs": [
    {
     "name": "stdout",
     "output_type": "stream",
     "text": [
      "                            OLS Regression Results                            \n",
      "==============================================================================\n",
      "Dep. Variable:                    GPA   R-squared:                       0.562\n",
      "Model:                            OLS   Adj. R-squared:                  0.510\n",
      "Method:                 Least Squares   F-statistic:                     10.90\n",
      "Date:                Sun, 23 Aug 2015   Prob (F-statistic):           0.000898\n",
      "Time:                        12:19:31   Log-Likelihood:                -10.109\n",
      "No. Observations:                  20   AIC:                             26.22\n",
      "Df Residuals:                      17   BIC:                             29.20\n",
      "Df Model:                           2                                         \n",
      "Covariance Type:            nonrobust                                         \n",
      "==============================================================================\n",
      "                 coef    std err          t      P>|t|      [95.0% Conf. Int.]\n",
      "------------------------------------------------------------------------------\n",
      "Intercept     -0.0572      0.638     -0.090      0.930        -1.403     1.289\n",
      "HS_ENGL        0.5195      0.227      2.290      0.035         0.041     0.998\n",
      "SAT_VERB       0.2273      0.083      2.745      0.014         0.053     0.402\n",
      "==============================================================================\n",
      "Omnibus:                        0.371   Durbin-Watson:                   2.507\n",
      "Prob(Omnibus):                  0.831   Jarque-Bera (JB):                0.487\n",
      "Skew:                           0.255   Prob(JB):                        0.784\n",
      "Kurtosis:                       2.431   Cond. No.                         40.1\n",
      "==============================================================================\n",
      "\n",
      "Warnings:\n",
      "[1] Standard Errors assume that the covariance matrix of the errors is correctly specified.\n"
     ]
    }
   ],
   "source": [
    "y, X = dmatrices('GPA ~ HS_ENGL + SAT_VERB', data=df, return_type='dataframe')\n",
    "model = sm.OLS(y, X)\n",
    "results = model.fit()\n",
    "print results.summary()"
   ]
  },
  {
   "cell_type": "markdown",
   "metadata": {},
   "source": [
    "### Part C:\n",
    "Use HS_ENGL, SAT_VERB, and SAT_QUAN as the independent variables"
   ]
  },
  {
   "cell_type": "code",
   "execution_count": 34,
   "metadata": {
    "collapsed": false
   },
   "outputs": [
    {
     "name": "stdout",
     "output_type": "stream",
     "text": [
      "                            OLS Regression Results                            \n",
      "==============================================================================\n",
      "Dep. Variable:                    GPA   R-squared:                       0.811\n",
      "Model:                            OLS   Adj. R-squared:                  0.776\n",
      "Method:                 Least Squares   F-statistic:                     22.89\n",
      "Date:                Sun, 23 Aug 2015   Prob (F-statistic):           4.95e-06\n",
      "Time:                        12:19:31   Log-Likelihood:                -1.7007\n",
      "No. Observations:                  20   AIC:                             11.40\n",
      "Df Residuals:                      16   BIC:                             15.38\n",
      "Df Model:                           3                                         \n",
      "Covariance Type:            nonrobust                                         \n",
      "==============================================================================\n",
      "                 coef    std err          t      P>|t|      [95.0% Conf. Int.]\n",
      "------------------------------------------------------------------------------\n",
      "Intercept      0.4863      0.448      1.086      0.294        -0.463     1.436\n",
      "HS_ENGL        0.0111      0.189      0.059      0.954        -0.390     0.412\n",
      "SAT_VERB       0.1568      0.058      2.699      0.016         0.034     0.280\n",
      "SAT_QUAN       0.2586      0.056      4.593      0.000         0.139     0.378\n",
      "==============================================================================\n",
      "Omnibus:                        0.803   Durbin-Watson:                   2.332\n",
      "Prob(Omnibus):                  0.669   Jarque-Bera (JB):                0.736\n",
      "Skew:                           0.186   Prob(JB):                        0.692\n",
      "Kurtosis:                       2.137   Cond. No.                         56.7\n",
      "==============================================================================\n",
      "\n",
      "Warnings:\n",
      "[1] Standard Errors assume that the covariance matrix of the errors is correctly specified.\n"
     ]
    }
   ],
   "source": [
    "y, X = dmatrices('GPA ~ HS_ENGL + SAT_VERB + SAT_QUAN', data=df, return_type='dataframe')\n",
    "model = sm.OLS(y, X)\n",
    "results = model.fit()\n",
    "print results.summary()"
   ]
  },
  {
   "cell_type": "markdown",
   "metadata": {},
   "source": [
    "## Question 4:\n",
    "\n",
    "### Part A:\n",
    "Interpret the unstandardized coefficient associated with HS_ENGL from model 3(a). \n",
    "\n",
    "__Answer__: Model 3(a) was: $$GPA = 0.2487 + 0.7790 (\\mbox{HS_ENGL})$$\n",
    "\n",
    "Controlling for the effects of the other independent variables (in this case, there were no other independent variables in the model), we expect a one unit increase in HS_ENGL to be associated with a 0.779 increase in GPA.\n",
    "\n",
    "### Part B:\n",
    "Interpret the unstandardized coefficient associated with SAT_QUAN from model 3(c).\n",
    "\n",
    "__Answer__: Model 3(c) was: $$GPA = 0.4863 + 0.0111 (\\mbox{HS_ENGL} + 0.1568 (\\mbox{SAT_VERB}) + 0.2586 (\\mbox{SAT_QUAN})$$\n",
    "\n",
    "Controlling for the effects of the other independent variables in the model, we expect a one unit increase in SAT_QUAN to be associated with a 0.2586 increase in GAP.\n",
    "\n",
    "### Part C:\n",
    "Interperate the $R^2$ from model 3(c):\n",
    "\n",
    "__Answer__: The $R^2$, also known as the _coefficient of determination_ shows the proportion of variability in the dependent variable that is explained by the model. In the case of the model above, 81% of the variability in GPA is explained by the model."
   ]
  },
  {
   "cell_type": "markdown",
   "metadata": {},
   "source": [
    "## Question 5:\n",
    "Something happened to the association between HS_ENGL and GPA as we moved from model (a) to model (c). Please describe what might have happened. Remember to provide statistical evidence to support your answer. Speculate in a conceptual way why this may have happened.\n",
    "\n",
    "__Answer__: In model 3(a) HS_ENGL had the coefficient 0.7790, where as in model 3(c) HS_ENGL had the coefficient 0.0111. We see that there is a significant change in the magnitude of this coefficient. Between model 3(a) and 3(c) we added two more independent variables. We can't simply compare the magnitude of these numbers, as they are derived from two different models. We could, if we didn't want to do further work, simply look at the significance of these two coefficients in their respective models and comment:\n",
    "\n",
    "| Diagnostic | Model 3(a) | Model 3(c) |\n",
    "|:----------:|:----------:|:----------:|\n",
    "| $T$ | 3.236 | 0.059 |\n",
    "| $P>|t|$ | 0.005 | 0.954 |\n",
    "\n",
    "Firs thing we notice is that the p-value in model 3(c) is not significant, where as the p-value in 3(a) is significant. We briefly looked into using mediation analysis, which is within our statistical package, but think that its beyond the scope of this asignment."
   ]
  },
  {
   "cell_type": "markdown",
   "metadata": {
    "collapsed": false
   },
   "source": [
    "## Question 6:\n",
    "Using model 3(c), check the following regression diagnostics and comment about any problems with the model:\n",
    "\n",
    "### Part A:\n",
    "A normal probability plot of the residuals."
   ]
  },
  {
   "cell_type": "code",
   "execution_count": 35,
   "metadata": {
    "collapsed": false
   },
   "outputs": [
    {
     "data": {
      "image/png": "[encoded data removed]",
      "text/plain": [
       "<matplotlib.figure.Figure at 0x7f21534fc810>"
      ]
     },
     "metadata": {},
     "output_type": "display_data"
    }
   ],
   "source": [
    "res = results.resid\n",
    "probplot = sm.ProbPlot(res)\n",
    "probplot.qqplot();"
   ]
  },
  {
   "cell_type": "markdown",
   "metadata": {},
   "source": [
    "When examining the Q-Q plot, we're comparing two distributions. In this case we see generally that the plot is moving along the $y = x$ diagonal."
   ]
  },
  {
   "cell_type": "markdown",
   "metadata": {},
   "source": [
    "### Part B:\n",
    "A Plot of the residuals by the predicted values. You may wish to use studentized residuals and standardized predicted values in the plot."
   ]
  },
  {
   "cell_type": "code",
   "execution_count": 36,
   "metadata": {
    "collapsed": false
   },
   "outputs": [
    {
     "data": {
      "image/png": "[encoded data removed]",
      "text/plain": [
       "<matplotlib.figure.Figure at 0x7f2153602710>"
      ]
     },
     "metadata": {},
     "output_type": "display_data"
    }
   ],
   "source": [
    "eng = df['HS_ENGL'].tolist()\n",
    "ver = df['SAT_VERB'].tolist()\n",
    "quan = df['SAT_QUAN'].tolist()\n",
    "y_hat = [(0.4863 + 0.0111 * a + 0.1568 * b + 0.2586 * c) for a, b, c in zip(eng, ver, quan)]\n",
    "\n",
    "plt.scatter(y_hat, res)\n",
    "plt.title('Scatterplot of Residuals and Predicted Values')\n",
    "plt.xlabel('Predicted Values ($\\hat{Y}$)')\n",
    "plt.ylabel('Residuals');"
   ]
  },
  {
   "cell_type": "markdown",
   "metadata": {},
   "source": [
    "We use this plot to eek out whether we believe that there exists heteroscedastic errors. We don't think we're seeing any heteroscedasticity here."
   ]
  },
  {
   "cell_type": "markdown",
   "metadata": {},
   "source": [
    "### Part C:\n",
    "A distribution of the standardized (or studentized) residuals, the leverage values, and the Cook's D values."
   ]
  },
  {
   "cell_type": "code",
   "execution_count": 37,
   "metadata": {
    "collapsed": false
   },
   "outputs": [
    {
     "data": {
      "image/png": "[encoded data removed]",
      "text/plain": [
       "<matplotlib.figure.Figure at 0x7f2153545510>"
      ]
     },
     "metadata": {},
     "output_type": "display_data"
    }
   ],
   "source": [
    "sm.graphics.influence_plot(results, criterion=\"cooks\");"
   ]
  },
  {
   "cell_type": "markdown",
   "metadata": {},
   "source": [
    "In this plot we see strong indication of multiple sub-populations in the data set. Specifically the two clusters top and bottom that are excerting a greater influence."
   ]
  }
 ],
 "metadata": {
  "kernelspec": {
   "display_name": "Python 2",
   "language": "python",
   "name": "python2"
  },
  "language_info": {
   "codemirror_mode": {
    "name": "ipython",
    "version": 2
   },
   "file_extension": ".py",
   "mimetype": "text/x-python",
   "name": "python",
   "nbconvert_exporter": "python",
   "pygments_lexer": "ipython2",
   "version": "2.7.10"
  }
 },
 "nbformat": 4,
 "nbformat_minor": 0
}
