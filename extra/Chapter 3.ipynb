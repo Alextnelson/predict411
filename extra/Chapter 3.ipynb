{
 "cells": [
  {
   "cell_type": "markdown",
   "metadata": {},
   "source": [
    "# Chapter 3 Excercises\n",
    "Logistic and Probit Regression Models\n",
    "\n",
    "## Question 1\n",
    "For the following 2x2 table, determine the odds and the probabilities of marijuana use among males and females. Then compute the odds ratio of marijuana use that compare males to females.\n",
    "\n",
    "| Marijuana Use | Male | Female |\n",
    "|:-------------:|:----:|:------:|\n",
    "| Yes | 10 | 6 |\n",
    "| No | 30 | 34 |\n",
    "\n",
    "\n",
    "We know that the probability of a thing is: $$\\text{probability}=\\frac{\\text{events}}{\\text{number of outcomes}}$$\n",
    "\n",
    "Therefore the probability of marijuana use among males is: $$p_{\\text{males}}=\\frac{10}{40}=0.25$$\n",
    "\n",
    "and, the probability of marijuana use among females is: $$p_{\\text{females}}=\\frac{6}{40}=0.15$$\n",
    "\n",
    "We compute the _odds_ using the general formula: $$\\text{odds}=\\frac{p}{1-p}$$\n",
    "\n",
    "Therefore the odds of marijuana use among males is: $$\\text{odds}_{\\text{males}}=\\frac{0.25}{1-0.25}=\\frac{1}{3}$$\n",
    "\n",
    "and, the odds of marijuana use among femailes is: $$\\text{odds}_{\\text{females}}=\\frac{0.15}{1-0.15}=\\frac{9}{50}$$\n",
    "\n",
    "We compute the _odds ratio_ using the forumla: $$OR_{\\text{a vs b}} = \\frac{\\text{odds}_{\\text{a}}}{\\text{odds}_{\\text{b}}}$$\n",
    "\n",
    "Therefore the odds ratio of males to females for marijuana use is: $$OR_{\\text{males vs females}}=\\frac{\\frac{0.25}{1-0.25}}{\\frac{0.15}{1-0.15}}=1.887$$"
   ]
  },
  {
   "cell_type": "markdown",
   "metadata": {},
   "source": [
    "## Question 2\n",
    "The data file _Religion_ contain a variable labeled _relschol_, which indicates whether or not the survey respondent attends a secondary school affiliated with a religious institution. The variable is coded as 0 = no and 1 = yes, conduct the following analysis:\n",
    "\n",
    "### Part A\n",
    "Compute the overall odds and probability of attending a religious school."
   ]
  },
  {
   "cell_type": "code",
   "execution_count": 93,
   "metadata": {
    "collapsed": true
   },
   "outputs": [],
   "source": [
    "# For All Maths\n",
    "import numpy as np\n",
    "import pandas as pd\n",
    "from sas7bdat import SAS7BDAT\n",
    "import statsmodels.api as sm\n",
    "import scipy\n",
    "from patsy import dmatrices"
   ]
  },
  {
   "cell_type": "code",
   "execution_count": 94,
   "metadata": {
    "collapsed": false
   },
   "outputs": [
    {
     "data": {
      "text/html": [
       "<div>\n",
       "<table border=\"1\" class=\"dataframe\">\n",
       "  <thead>\n",
       "    <tr style=\"text-align: right;\">\n",
       "      <th></th>\n",
       "      <th>ID</th>\n",
       "      <th>SEX</th>\n",
       "      <th>AGE</th>\n",
       "      <th>EDUC</th>\n",
       "      <th>INCOME</th>\n",
       "      <th>RELSCHOL</th>\n",
       "      <th>MARRIED</th>\n",
       "      <th>ATTEND</th>\n",
       "      <th>AGESQ</th>\n",
       "      <th>RACE</th>\n",
       "    </tr>\n",
       "  </thead>\n",
       "  <tbody>\n",
       "    <tr>\n",
       "      <th>0</th>\n",
       "      <td>2</td>\n",
       "      <td>1</td>\n",
       "      <td>30</td>\n",
       "      <td>6</td>\n",
       "      <td>11</td>\n",
       "      <td>0</td>\n",
       "      <td>1</td>\n",
       "      <td>6</td>\n",
       "      <td>900</td>\n",
       "      <td>1</td>\n",
       "    </tr>\n",
       "    <tr>\n",
       "      <th>1</th>\n",
       "      <td>3</td>\n",
       "      <td>1</td>\n",
       "      <td>32</td>\n",
       "      <td>6</td>\n",
       "      <td>6</td>\n",
       "      <td>0</td>\n",
       "      <td>1</td>\n",
       "      <td>5</td>\n",
       "      <td>1024</td>\n",
       "      <td>1</td>\n",
       "    </tr>\n",
       "    <tr>\n",
       "      <th>2</th>\n",
       "      <td>4</td>\n",
       "      <td>1</td>\n",
       "      <td>51</td>\n",
       "      <td>2</td>\n",
       "      <td>11</td>\n",
       "      <td>0</td>\n",
       "      <td>1</td>\n",
       "      <td>2</td>\n",
       "      <td>2601</td>\n",
       "      <td>1</td>\n",
       "    </tr>\n",
       "    <tr>\n",
       "      <th>3</th>\n",
       "      <td>5</td>\n",
       "      <td>1</td>\n",
       "      <td>18</td>\n",
       "      <td>2</td>\n",
       "      <td>3</td>\n",
       "      <td>0</td>\n",
       "      <td>0</td>\n",
       "      <td>6</td>\n",
       "      <td>324</td>\n",
       "      <td>1</td>\n",
       "    </tr>\n",
       "    <tr>\n",
       "      <th>4</th>\n",
       "      <td>6</td>\n",
       "      <td>1</td>\n",
       "      <td>37</td>\n",
       "      <td>5</td>\n",
       "      <td>6</td>\n",
       "      <td>0</td>\n",
       "      <td>1</td>\n",
       "      <td>6</td>\n",
       "      <td>1369</td>\n",
       "      <td>1</td>\n",
       "    </tr>\n",
       "  </tbody>\n",
       "</table>\n",
       "</div>"
      ],
      "text/plain": [
       "   ID  SEX  AGE  EDUC  INCOME  RELSCHOL  MARRIED  ATTEND  AGESQ  RACE\n",
       "0   2    1   30     6      11         0        1       6    900     1\n",
       "1   3    1   32     6       6         0        1       5   1024     1\n",
       "2   4    1   51     2      11         0        1       2   2601     1\n",
       "3   5    1   18     2       3         0        0       6    324     1\n",
       "4   6    1   37     5       6         0        1       6   1369     1"
      ]
     },
     "execution_count": 94,
     "metadata": {},
     "output_type": "execute_result"
    }
   ],
   "source": [
    "# Load the data for this chapter\n",
    "with SAS7BDAT('religion.sas7bdat') as f:\n",
    "    df = f.to_data_frame()\n",
    "df.head()"
   ]
  },
  {
   "cell_type": "code",
   "execution_count": 95,
   "metadata": {
    "collapsed": false
   },
   "outputs": [
    {
     "data": {
      "text/plain": [
       "0    546\n",
       "1     80\n",
       "dtype: int64"
      ]
     },
     "execution_count": 95,
     "metadata": {},
     "output_type": "execute_result"
    }
   ],
   "source": [
    "# Get our counts so we can calculate the probability of attendance\n",
    "df['RELSCHOL'].value_counts()"
   ]
  },
  {
   "cell_type": "markdown",
   "metadata": {},
   "source": [
    "We know that the probability of a thing is: $$\\text{probability}=\\frac{\\text{events}}{\\text{number of outcomes}}$$\n",
    "\n",
    "Therefore the probability of attending a religious school is $$p_{\\text{relschool}}=\\frac{80}{626}=0.1278$$\n",
    "\n",
    "We compute the _odds_ using the general formula: $$\\text{odds}=\\frac{p}{1-p}$$\n",
    "\n",
    "Therefore the odds of attending a religious school is $$\\text{odds}_{\\text{relschool}}=\\frac{0.1278}{1-0.1278}=\\frac{3}{20}$$"
   ]
  },
  {
   "cell_type": "markdown",
   "metadata": {},
   "source": [
    "### Part B\n",
    "Cross-tabulate _relschol_ with _race_ (coded 0 as non-write, 1 as white). What are the probabilities that non-white students and white students attend religious schools? What are the odds that white students and non-white students attend religious schools? What is the odds ratio that compares white and non-white students?"
   ]
  },
  {
   "cell_type": "code",
   "execution_count": 96,
   "metadata": {
    "collapsed": false
   },
   "outputs": [
    {
     "data": {
      "text/html": [
       "<div>\n",
       "<table border=\"1\" class=\"dataframe\">\n",
       "  <thead>\n",
       "    <tr style=\"text-align: right;\">\n",
       "      <th>RACE</th>\n",
       "      <th>0.0</th>\n",
       "      <th>1.0</th>\n",
       "    </tr>\n",
       "    <tr>\n",
       "      <th>RELSCHOL</th>\n",
       "      <th></th>\n",
       "      <th></th>\n",
       "    </tr>\n",
       "  </thead>\n",
       "  <tbody>\n",
       "    <tr>\n",
       "      <th>0</th>\n",
       "      <td>76</td>\n",
       "      <td>470</td>\n",
       "    </tr>\n",
       "    <tr>\n",
       "      <th>1</th>\n",
       "      <td>26</td>\n",
       "      <td>54</td>\n",
       "    </tr>\n",
       "  </tbody>\n",
       "</table>\n",
       "</div>"
      ],
      "text/plain": [
       "RACE       0    1\n",
       "RELSCHOL         \n",
       "0         76  470\n",
       "1         26   54"
      ]
     },
     "execution_count": 96,
     "metadata": {},
     "output_type": "execute_result"
    }
   ],
   "source": [
    "pd.crosstab(df['RELSCHOL'], df['RACE'])"
   ]
  },
  {
   "cell_type": "markdown",
   "metadata": {},
   "source": [
    "The probability of white students attending religious school is: $$p_{\\text{white relschool}}=\\frac{54}{524}=0.1031$$\n",
    "\n",
    "The probability of non-white students attending religious school is: $$p_{\\text{non-white relschool}}=\\frac{26}{102}=0.2549$$\n",
    "\n",
    "The odds of white students attending religious school is: $$\\text{odds}_{\\text{white relschool}}=\\frac{0.1031}{1-0.1031}=\\frac{11}{100}$$\n",
    "\n",
    "The odds of non-white students attending religious school is: $$\\text{odds}_{\\text{non-white relschool}}=\\frac{0.2549}{1-0.2549}=\\frac{17}{50}$$\n",
    "\n",
    "The odds ratio comparing white and non-white students is: $$OR_{\\text{white vs non-white, relschool}}=\\frac{\\frac{0.1031}{1-0.1031}}{\\frac{0.2549}{1-0.2549}}=0.34$$"
   ]
  },
  {
   "cell_type": "markdown",
   "metadata": {},
   "source": [
    "## Queston 3\n",
    "Estimate two logistic regression models that are designed to preict _relschol_. In the first model include only the variable _race_. In the second model, include _Race_, _attend_ (religious service attendence), and _income_ (family income), treating the latter two as continuous variables. Answer the following questions:"
   ]
  },
  {
   "cell_type": "code",
   "execution_count": 97,
   "metadata": {
    "collapsed": false
   },
   "outputs": [
    {
     "name": "stdout",
     "output_type": "stream",
     "text": [
      "Optimization terminated successfully.\n",
      "         Current function value: 0.370181\n",
      "         Iterations 6\n",
      "                           Logit Regression Results                           \n",
      "==============================================================================\n",
      "Dep. Variable:               RELSCHOL   No. Observations:                  626\n",
      "Model:                          Logit   Df Residuals:                      624\n",
      "Method:                           MLE   Df Model:                            1\n",
      "Date:                Mon, 07 Sep 2015   Pseudo R-squ.:                 0.03138\n",
      "Time:                        11:59:28   Log-Likelihood:                -231.73\n",
      "converged:                       True   LL-Null:                       -239.24\n",
      "                                        LLR p-value:                 0.0001066\n",
      "==================================================================================\n",
      "                     coef    std err          z      P>|z|      [95.0% Conf. Int.]\n",
      "----------------------------------------------------------------------------------\n",
      "Intercept         -1.0726      0.227     -4.721      0.000        -1.518    -0.627\n",
      "C(RACE)[T.1.0]    -1.0911      0.269     -4.059      0.000        -1.618    -0.564\n",
      "==================================================================================\n"
     ]
    }
   ],
   "source": [
    "y, X = dmatrices('RELSCHOL ~ C(RACE)', data=df, return_type='dataframe')\n",
    "model = sm.Logit(y, X)\n",
    "results = model.fit()\n",
    "print results.summary()"
   ]
  },
  {
   "cell_type": "code",
   "execution_count": 98,
   "metadata": {
    "collapsed": false
   },
   "outputs": [
    {
     "name": "stdout",
     "output_type": "stream",
     "text": [
      "Intercept         0.342105\n",
      "C(RACE)[T.1.0]    0.335843\n",
      "dtype: float64\n"
     ]
    }
   ],
   "source": [
    "print np.exp(results.params)"
   ]
  },
  {
   "cell_type": "markdown",
   "metadata": {},
   "source": [
    "### Part A\n",
    "Based on the first model, what is the odds ratio that compares white and non-white students? Compare this to the odds ratio computed in Excercise 2.B.\n",
    "\n",
    "We know that we can take the exponent of the coefficient to acquire the odds ratio, in this case that is 0.3358. which is quite close to our calculated result in 2.B (0.336015546)."
   ]
  },
  {
   "cell_type": "code",
   "execution_count": 99,
   "metadata": {
    "collapsed": false
   },
   "outputs": [
    {
     "name": "stdout",
     "output_type": "stream",
     "text": [
      "Optimization terminated successfully.\n",
      "         Current function value: 0.370181\n",
      "         Iterations 6\n",
      "                         Results: Logit\n",
      "=================================================================\n",
      "Model:              Logit            Pseudo R-squared: 0.031     \n",
      "Dependent Variable: RELSCHOL         AIC:              467.4662  \n",
      "Date:               2015-09-07 11:59 BIC:              476.3449  \n",
      "No. Observations:   626              Log-Likelihood:   -231.73   \n",
      "Df Model:           1                LL-Null:          -239.24   \n",
      "Df Residuals:       624              LLR p-value:      0.00010659\n",
      "Converged:          1.0000           Scale:            1.0000    \n",
      "No. Iterations:     6.0000                                       \n",
      "-----------------------------------------------------------------\n",
      "                   Coef.  Std.Err.    z    P>|z|   [0.025  0.975]\n",
      "-----------------------------------------------------------------\n",
      "Intercept         -1.0726   0.2272 -4.7211 0.0000 -1.5179 -0.6273\n",
      "C(RACE)[T.1.0]    -1.0911   0.2688 -4.0589 0.0000 -1.6180 -0.5642\n",
      "=================================================================\n",
      "\n"
     ]
    }
   ],
   "source": [
    "y, X = dmatrices('RELSCHOL ~ C(RACE)', data=df, return_type='dataframe')\n",
    "model = sm.Logit(y, X)\n",
    "results = model.fit()\n",
    "print results.summary2()"
   ]
  },
  {
   "cell_type": "code",
   "execution_count": 100,
   "metadata": {
    "collapsed": false
   },
   "outputs": [
    {
     "name": "stdout",
     "output_type": "stream",
     "text": [
      "Optimization terminated successfully.\n",
      "         Current function value: 0.353214\n",
      "         Iterations 7\n",
      "                         Results: Logit\n",
      "=================================================================\n",
      "Model:              Logit            Pseudo R-squared: 0.080     \n",
      "Dependent Variable: RELSCHOL         AIC:              424.7930  \n",
      "Date:               2015-09-07 11:59 BIC:              442.3135  \n",
      "No. Observations:   590              Log-Likelihood:   -208.40   \n",
      "Df Model:           3                LL-Null:          -226.63   \n",
      "Df Residuals:       586              LLR p-value:      5.9434e-08\n",
      "Converged:          1.0000           Scale:            1.0000    \n",
      "No. Iterations:     7.0000                                       \n",
      "-----------------------------------------------------------------\n",
      "                   Coef.  Std.Err.    z    P>|z|   [0.025  0.975]\n",
      "-----------------------------------------------------------------\n",
      "Intercept         -3.5831   0.7185 -4.9868 0.0000 -4.9914 -2.1749\n",
      "C(RACE)[T.1.0]    -1.2893   0.2898 -4.4488 0.0000 -1.8573 -0.7213\n",
      "ATTEND             0.3316   0.1297  2.5577 0.0105  0.0775  0.5858\n",
      "INCOME             0.2007   0.0487  4.1183 0.0000  0.1052  0.2962\n",
      "=================================================================\n",
      "\n"
     ]
    }
   ],
   "source": [
    "y, X = dmatrices('RELSCHOL ~ C(RACE) + ATTEND + INCOME', data=df, return_type='dataframe')\n",
    "model = sm.Logit(y, X)\n",
    "results = model.fit()\n",
    "print results.summary2()"
   ]
  },
  {
   "cell_type": "markdown",
   "metadata": {},
   "source": [
    "### Part B\n",
    "What are the AIC and BIC for the two models? Based on these measures of fit, which model do you prefer?\n",
    "\n",
    "|   | AIC | BIC |\n",
    "|---|:---:|:---:|\n",
    "| $logit[p(Y=1)]=\\alpha+\\beta_1\\text{RACE}$ | 467.4662  | 476.3449 |\n",
    "| $logit[p(Y=1)]=\\alpha+\\beta_1\\text{RACE}+\\beta_2\\text{ATTEND}+\\beta_3\\text{INCOME}$ | 424.7930 | 442.3135 |\n",
    "\n",
    "The usual rule of thumb is to compare the AIC and BIC values and choose the model in which the values are lower. In this case the model performance on other parameters (Psuedo $R^2$) indicates that we get _some_ more explanation of variability by choosing the second model. However the question asks us to choose on AIC and BIC alone, therefor we would choose the second model."
   ]
  },
  {
   "cell_type": "markdown",
   "metadata": {},
   "source": [
    "### Part C\n",
    "For tose who attend religious services five days per month (_attend_ = 5) and have a family income of $20,000-29,999$ (_income_ = 4), what are the predicted odds of attending a religious school for white and non-white students?"
   ]
  },
  {
   "cell_type": "code",
   "execution_count": 101,
   "metadata": {
    "collapsed": false
   },
   "outputs": [
    {
     "name": "stdout",
     "output_type": "stream",
     "text": [
      "0.0896717050032 0.325530213444\n"
     ]
    }
   ],
   "source": [
    "odds_white  = np.exp(-3.5831 + 1.0*-1.2893 + 5.0*0.3316 + 4.0*0.2007)\n",
    "odds_non_white = np.exp(-3.5831 + 0.0*-1.2893 + 5.0*0.3316 + 4.0*0.2007)\n",
    "print odds_white, odds_non_white"
   ]
  },
  {
   "cell_type": "markdown",
   "metadata": {},
   "source": [
    "The predicted odds of attending a religious school for those who are white, attend religious services 5 days per month, and have a family income of 20,000-29,999 is 0.08. The predicted odds of attending a religious school for those who are non-white, attend religious serivces 5 days per month, and have a family income of 20,000-29,999 is 0.32."
   ]
  },
  {
   "cell_type": "markdown",
   "metadata": {},
   "source": [
    "### Part D\n",
    "What is the adjusted odds ratio for _race_? Interpret this odds ratio.\n",
    "\n",
    "We will calculate the adjusted odds ratio for gender by plugging the mean values in and predicting the odds for white and non-white."
   ]
  },
  {
   "cell_type": "code",
   "execution_count": 102,
   "metadata": {
    "collapsed": false
   },
   "outputs": [
    {
     "data": {
      "text/plain": [
       "ID           503.487220\n",
       "SEX            0.584665\n",
       "AGE           47.077047\n",
       "EDUC           3.323718\n",
       "INCOME         5.215254\n",
       "RELSCHOL       0.127796\n",
       "MARRIED        0.635783\n",
       "ATTEND         4.535144\n",
       "AGESQ       2518.495987\n",
       "RACE           0.837061\n",
       "dtype: float64"
      ]
     },
     "execution_count": 102,
     "metadata": {},
     "output_type": "execute_result"
    }
   ],
   "source": [
    "df.mean()"
   ]
  },
  {
   "cell_type": "code",
   "execution_count": 103,
   "metadata": {
    "collapsed": false
   },
   "outputs": [
    {
     "name": "stdout",
     "output_type": "stream",
     "text": [
      "0.275463540095 0.275463540095\n"
     ]
    }
   ],
   "source": [
    "m_odds_white  =np.exp(-3.5831 + 1.0*-1.2893 + 4.535144*0.3316 + 5.215254*0.2007)\n",
    "m_odds_non_white = np.exp(-3.5831 + 0.0*-1.2893 + 4.535144*0.3316 + 5.215254*0.2007)\n",
    "print m_odds_white / m_odds_non_white , np.exp(-1.2893)"
   ]
  },
  {
   "cell_type": "markdown",
   "metadata": {},
   "source": [
    "We see that the odds ratio that we calculate from the mean values matches that of the exponiated coefficient that was calculated by our model. Thus for white attending religious school is about 1 in 4."
   ]
  },
  {
   "cell_type": "markdown",
   "metadata": {},
   "source": [
    "## Question 4\n",
    "Re-estimate the two models outlined in Excercise 3, but use a probit model. Answer the following questions:"
   ]
  },
  {
   "cell_type": "code",
   "execution_count": 104,
   "metadata": {
    "collapsed": false
   },
   "outputs": [
    {
     "name": "stdout",
     "output_type": "stream",
     "text": [
      "Optimization terminated successfully.\n",
      "         Current function value: 0.370181\n",
      "         Iterations 6\n",
      "                         Results: Probit\n",
      "=================================================================\n",
      "Model:              Probit           Pseudo R-squared: 0.031     \n",
      "Dependent Variable: RELSCHOL         AIC:              467.4662  \n",
      "Date:               2015-09-07 11:59 BIC:              476.3449  \n",
      "No. Observations:   626              Log-Likelihood:   -231.73   \n",
      "Df Model:           1                LL-Null:          -239.24   \n",
      "Df Residuals:       624              LLR p-value:      0.00010659\n",
      "Converged:          1.0000           Scale:            1.0000    \n",
      "No. Iterations:     6.0000                                       \n",
      "-----------------------------------------------------------------\n",
      "                   Coef.  Std.Err.    z    P>|z|   [0.025  0.975]\n",
      "-----------------------------------------------------------------\n",
      "Intercept         -0.6591   0.1344 -4.9040 0.0000 -0.9226 -0.3957\n",
      "C(RACE)[T.1.0]    -0.6052   0.1535 -3.9439 0.0001 -0.9060 -0.3044\n",
      "=================================================================\n",
      "\n"
     ]
    }
   ],
   "source": [
    "y, X = dmatrices('RELSCHOL ~ C(RACE)', data=df, return_type='dataframe')\n",
    "model = sm.Probit(y, X)\n",
    "results = model.fit()\n",
    "print results.summary2()"
   ]
  },
  {
   "cell_type": "markdown",
   "metadata": {},
   "source": [
    "### Part A\n",
    "Based on the first model, what is the predicted probability that white and non-white students attend a religious school? Compare these results to those found in Exercise 2.B."
   ]
  },
  {
   "cell_type": "code",
   "execution_count": 105,
   "metadata": {
    "collapsed": false
   },
   "outputs": [
    {
     "name": "stdout",
     "output_type": "stream",
     "text": [
      "0.103079125424 0.25491577784\n"
     ]
    }
   ],
   "source": [
    "p_white = scipy.stats.norm.cdf(-0.6591-0.6051)\n",
    "p_non_white = scipy.stats.norm.cdf(-0.6591)\n",
    "print p_white, p_non_white"
   ]
  },
  {
   "cell_type": "markdown",
   "metadata": {},
   "source": [
    "We see that the probabilities match what we calculated from the table in 2.B."
   ]
  },
  {
   "cell_type": "markdown",
   "metadata": {},
   "source": [
    "### Part B\n",
    "What are the AIC and BIC for the two models? Compare these to the AIC and BIC computed in Exercise 3.B.\n"
   ]
  },
  {
   "cell_type": "code",
   "execution_count": 106,
   "metadata": {
    "collapsed": false
   },
   "outputs": [
    {
     "name": "stdout",
     "output_type": "stream",
     "text": [
      "                         Results: Probit\n",
      "=================================================================\n",
      "Model:              Probit           Pseudo R-squared: 0.031     \n",
      "Dependent Variable: RELSCHOL         AIC:              467.4662  \n",
      "Date:               2015-09-07 11:59 BIC:              476.3449  \n",
      "No. Observations:   626              Log-Likelihood:   -231.73   \n",
      "Df Model:           1                LL-Null:          -239.24   \n",
      "Df Residuals:       624              LLR p-value:      0.00010659\n",
      "Converged:          1.0000           Scale:            1.0000    \n",
      "No. Iterations:     6.0000                                       \n",
      "-----------------------------------------------------------------\n",
      "                   Coef.  Std.Err.    z    P>|z|   [0.025  0.975]\n",
      "-----------------------------------------------------------------\n",
      "Intercept         -0.6591   0.1344 -4.9040 0.0000 -0.9226 -0.3957\n",
      "C(RACE)[T.1.0]    -0.6052   0.1535 -3.9439 0.0001 -0.9060 -0.3044\n",
      "=================================================================\n",
      "\n"
     ]
    }
   ],
   "source": [
    "print results.summary2()"
   ]
  },
  {
   "cell_type": "code",
   "execution_count": 107,
   "metadata": {
    "collapsed": false
   },
   "outputs": [
    {
     "name": "stdout",
     "output_type": "stream",
     "text": [
      "Optimization terminated successfully.\n",
      "         Current function value: 0.351750\n",
      "         Iterations 6\n",
      "                         Results: Probit\n",
      "=================================================================\n",
      "Model:              Probit           Pseudo R-squared: 0.084     \n",
      "Dependent Variable: RELSCHOL         AIC:              423.0652  \n",
      "Date:               2015-09-07 11:59 BIC:              440.5857  \n",
      "No. Observations:   590              Log-Likelihood:   -207.53   \n",
      "Df Model:           3                LL-Null:          -226.63   \n",
      "Df Residuals:       586              LLR p-value:      2.5609e-08\n",
      "Converged:          1.0000           Scale:            1.0000    \n",
      "No. Iterations:     6.0000                                       \n",
      "-----------------------------------------------------------------\n",
      "                   Coef.  Std.Err.    z    P>|z|   [0.025  0.975]\n",
      "-----------------------------------------------------------------\n",
      "Intercept         -2.0718   0.3849 -5.3824 0.0000 -2.8263 -1.3174\n",
      "C(RACE)[T.1.0]    -0.7261   0.1631 -4.4527 0.0000 -1.0457 -0.4065\n",
      "ATTEND             0.1858   0.0689  2.6965 0.0070  0.0508  0.3209\n",
      "INCOME             0.1156   0.0271  4.2612 0.0000  0.0624  0.1687\n",
      "=================================================================\n",
      "\n"
     ]
    }
   ],
   "source": [
    "y, X = dmatrices('RELSCHOL ~ C(RACE) + ATTEND + INCOME', data=df, return_type='dataframe')\n",
    "model = sm.Probit(y, X)\n",
    "results = model.fit()\n",
    "print results.summary2()"
   ]
  },
  {
   "cell_type": "markdown",
   "metadata": {},
   "source": [
    "|   | AIC | BIC |\n",
    "|---|:---:|:---:|\n",
    "| $logit[p(Y=1)]=\\alpha+\\beta_1\\text{RACE}$ | 467.4662  | 476.3449 |\n",
    "| $logit[p(Y=1)]=\\alpha+\\beta_1\\text{RACE}+\\beta_2\\text{ATTEND}+\\beta_3\\text{INCOME}$ | 424.7930 | 442.3135 |\n",
    "| $probit[p(Y=1)]=\\alpha+\\beta_1\\text{RACE}$ | 467.4662 | 476.3449 |\n",
    "| $probit[p(Y=1)]=\\alpha+\\beta_1\\text{RACE}+\\beta_2\\text{ATTEND}+\\beta_3\\text{INCOME}$ | 423.0652 | 440.5857 |\n",
    "\n",
    "We see that the AIC and BIC between Logit and Probit models is very similar. We would opt to choose the second model once more due to its comparatively lower AIC and BIC values."
   ]
  },
  {
   "cell_type": "markdown",
   "metadata": {},
   "source": [
    "### Part C\n",
    "For tose who attend religious services five days per month (_attend_ = 5) and have a family income of $20,000-29,999$ (_income_ = 4), what are the predicted probabilities of attending a religious school for white and non-white students?"
   ]
  },
  {
   "cell_type": "code",
   "execution_count": 108,
   "metadata": {
    "collapsed": false
   },
   "outputs": [
    {
     "name": "stdout",
     "output_type": "stream",
     "text": [
      "0.0896717050032 0.325530213444\n"
     ]
    }
   ],
   "source": [
    "p_white  = scipy.stats.norm.cdf(-2.0718 + 1.0*-0.7261 + 5.0*0.1858 + 4.0*0.1156)\n",
    "p_non_white = scipy.stats.norm.cdf(-2.0718 + 0.0*-0.7261 + 5.0*0.1858 + 4.0*0.1156)\n",
    "print odds_white, odds_non_white"
   ]
  },
  {
   "cell_type": "markdown",
   "metadata": {},
   "source": [
    "### Part D\n",
    "Compute the discrete change in probability under the following scenario: A non-white student whose _attend_ value equals 4 with a shift in family income (_income_) rom a value of 4($20,000-29,999$) to a value of 10 ($80,000-99,999$)\n",
    "\n",
    "For continuous variables the discrete change is harder to compute, but the interpretation is similar. The following forula is used for computing the discrete changes: $$\\frac{\\Delta P(y=1|\\bar{x})}{\\Delta x_i}=P(y=1|\\mathbf{\\bar{x}},\\bar{x_k}+1)-P(y=1|\\mathbf{\\bar{x}},\\bar{x_k})$$"
   ]
  },
  {
   "cell_type": "code",
   "execution_count": 109,
   "metadata": {
    "collapsed": false
   },
   "outputs": [
    {
     "data": {
      "text/plain": [
       "-0.25714027466459394"
      ]
     },
     "execution_count": 109,
     "metadata": {},
     "output_type": "execute_result"
    }
   ],
   "source": [
    "p_4 = scipy.stats.norm.cdf(-2.0718 + 0.0*-0.7261 + 5.0*0.1858 + 4.0*0.1156)\n",
    "p_10 = scipy.stats.norm.cdf(-2.0718 + 0.0*-0.7261 + 5.0*0.1858 + 10.0*0.1156)\n",
    "p_4 - p_10"
   ]
  },
  {
   "cell_type": "markdown",
   "metadata": {},
   "source": [
    "## Question 5\n",
    "In plain English, what do you conclude about the relationship between a student's race/ehnicity, religious service attendance, family income, and attending a religious school?\n",
    "\n",
    "Each have an impact on the probability that a student will attend a religious school. Each, from the data, can be teased out so that we can have some indication of it's descrete effect. "
   ]
  }
 ],
 "metadata": {
  "kernelspec": {
   "display_name": "Python 2",
   "language": "python",
   "name": "python2"
  },
  "language_info": {
   "codemirror_mode": {
    "name": "ipython",
    "version": 2
   },
   "file_extension": ".py",
   "mimetype": "text/x-python",
   "name": "python",
   "nbconvert_exporter": "python",
   "pygments_lexer": "ipython2",
   "version": "2.7.10"
  }
 },
 "nbformat": 4,
 "nbformat_minor": 0
}
