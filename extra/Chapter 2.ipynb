{
 "cells": [
  {
   "cell_type": "markdown",
   "metadata": {},
   "source": [
    "# Chapter 2 Excercises\n",
    "Introduction to Generalized Linear Models\n",
    "\n",
    "We'll use this table to help us with the assignment:\n",
    "\n",
    "| Distribution | Support of Distribution | Typical Use | Link Name | Link Function | Mean Function |\n",
    "|:------------:|:-----------------------:|:-----------:|:---------:|:-------------:|:-------------:|\n",
    "| Normal | real: $(-\\infty, + \\infty)$ | Linear Response Data | Identity | $X\\beta = \\mu$ | $\\mu = X\\beta$ |\n",
    "| Exponential | real: $(0, +\\infty)$ | Exponential-response data, scale parameters | Inverse | $X\\beta = -\\mu^{-1}$ | $\\mu = -(X\\beta)^{-1}$ |\n",
    "| Gamma | real: $(0, +\\infty)$ | Exponential-response data, scale parameters | Inverse | $X\\beta = -\\mu^{-1}$ | $\\mu = -(X\\beta)^{-1}$ |\n",
    "| Inverse Gaussian | real: $(0, +\\infty)$ | | Inverse Squared | $X\\beta = -\\mu^{-2}$ | $\\mu = -(X\\beta)^{-1/2}$ |\n",
    "| Poisson | integer: $0,1,2,\\ldots$ | count of occurrences in fixed amount of time/space | $\\log$ | $X\\beta = \\ln(\\mu)$ | $\\mu = \\exp(X\\beta)$ |\n",
    "| Bernoulli | integer: ${0,1}$ | outcome of single yes/no occurrence | Logit | $X\\beta = \\ln(\\frac{\\mu}{1-\\mu})$ | $\\mu = \\frac{1}{1+\\exp(-X\\beta)}$ |\n",
    "| Binomial | integer: $0,1,\\ldots,N$ | count of # of \"yes\" occurrences out of N yes/no occurrences | Logit | $X\\beta = \\ln(\\frac{\\mu}{1-\\mu})$ | $\\mu = \\frac{1}{1+\\exp(-X\\beta)}$ |\n",
    "| Categorical | integer: $[0,K)$ | outcome of single K-way occurrence | Logit | $X\\beta = \\ln(\\frac{\\mu}{1-\\mu})$ | $\\mu = \\frac{1}{1+\\exp(-X\\beta)}$ |\n",
    "| Categorical | K-vector of integer: $[0,1]$, where exactly one element in the vector has the value 1 | outcome of single K-way occurrence | Logit | $X\\beta = \\ln(\\frac{\\mu}{1-\\mu})$ | $\\mu = \\frac{1}{1+\\exp(-X\\beta)}$ |\n",
    "| Multinomial | K-vector of integer: $[0,N]$ | count of occurrences of different types $(1,\\ldots,K)$ out of $N$ total K-way occurrences | Logit | $X\\beta = \\ln(\\frac{\\mu}{1-\\mu})$ | $\\mu = \\frac{1}{1+\\exp(-X\\beta)}$ |\n",
    "\n",
    "\n",
    "## Question 1 & 2:\n",
    "Specify the probability distributions that best describe the following variables. Suppose you wish to analyze each of these variables usingregression techniques. Select the most likely link function for each distribution.\n",
    "\n",
    "### Part A:\n",
    "A measure of the number of avalances that occur per year in the Wasatch mountain range of Utah\n",
    "\n",
    "__Answer__: Poisson, with link function: $X\\beta = \\ln(\\mu)$\n",
    "\n",
    "### Part B:\n",
    "A measure of whether or not members of a large, nationally representative sample of adults smoke cigarettes.\n",
    "\n",
    "__Answer__: Binomial, with link function: $X\\beta = \\ln(\\frac{\\mu}{1-\\mu})$\n",
    "\n",
    "### Part C:\n",
    "A measure of the temperature (in Kelvin) inside a sample of volcanoes in Japan.\n",
    "\n",
    "__Answer__: Inverse Gaussian, with link function: $X\\beta = -\\mu^{-2}$\n",
    "\n",
    "### Part D:\n",
    "A measure of whether members of a sample have done one of the following mutually exclusive events in the past year: Remained with their religious denomination, joined different religious denomnation, or left their religious denomination without joining another.\n",
    "\n",
    "__Answer__: Multinomial, with link function: $X\\beta = \\ln(\\frac{\\mu}{1-\\mu})$\n",
    "\n",
    "### Part E:\n",
    "A measure of whether or not firms in a national registry have adopted a public venture capital program.\n",
    "\n",
    "__Answer__: Binomial, with link function: $X\\beta = \\ln(\\frac{\\mu}{1-\\mu})$\n",
    "\n",
    "### Part F:\n",
    "A measure of whether members of a sample of workers have either quit a job, been laid-off from a job, been fired from a job, or remained in their jobs in the past year.\n",
    "\n",
    "__Answer__: Multinomial, with link function: $X\\beta = \\ln(\\frac{\\mu}{1-\\mu})$\n",
    "\n",
    "### Part G:\n",
    "In a sample of adult probationers in Oregon, a measure of the number of times arrested in the previous ten years.\n",
    "\n",
    "__Answer__: Poisson, with link function: $X\\beta = \\ln(\\mu)$\n",
    "\n",
    "## Question 3:\n",
    "Compute the epected values (means) and variances for each of the following variables.\n",
    "\n",
    "### Part A:\n",
    "A sample of 1,500 adults in which the probability of alcohol use is 0.65.\n",
    "\n",
    "__Answer__: Using binomial distribution, $E(X) = n\\times p$, $Var(X) = n\\times p(1-p)$\n",
    "\n",
    "expected value: $1500 \\times 0.65 = 975$, variance: $1500 \\times 0.65(1-0.65) = 341.25$\n",
    "\n",
    "### Part B:\n",
    "A sample of 200 adults with the following probabilities of involvement in the workforce: 0.55 of being employed full-time, 0.15 of being employed part-time, 0.10 of beng unemployed, and 0.20 of not participating in the workforce (e.g. homemakers, students).\n",
    "\n",
    "__Answer__: Using multinomial distribution, $E(X) = p_1 \\times n$ for each group (denoted as 1 for first group). $Var(X) = n\\times p_1(1-p_1)$ for each group (denoted as 1 for first group).\n",
    "\n",
    " - $0.55$ full time, expected value: $0.55 \\times 200 = 110$, variance: $200 \\times 0.55(1-0.55) = 49.5$\n",
    " - $0.15$ part time, expected value: $0.15 \\times 200 = 30$, variance: $200 \\times 0.15(1-0.15) = 25.5$\n",
    " - $0.10$ unemployed, expected value: $0.10 \\times 200 = 20$, variance: $200 \\times 0.10(1-0.10) = 18$\n",
    " - $0.20$ not participating, expected value: $0.20 \\times 200 = 40$, variance: $200 \\times 0.20(1-0.20) = 32$\n",
    "\n",
    "### Part C:\n",
    "A sample of 850 adolescents with the following probabilities of low and high self-esteem: 0.45 low self-esteem; and 0.55, high self-esteem.\n",
    "\n",
    "__Answer__: Using multinomial distribution, $E(X) = p_1 \\times n$ for each group (denoted as 1 for first group). $Var(X) = n\\times p_1(1-p_1)$ for each group (denoted as 1 for first group).\n",
    "\n",
    " - $0.45$ low self-esteem, expected value: $0.45 \\times 850 = 382.5$, variance: $200 \\times 0.55(1-0.55) = 210.375$\n",
    " - $0.55$ high self-esteem, expected value: $0.55 \\times 850 = 467.5$, variance: $200 \\times 0.15(1-0.15) = 210.375$\n",
    "\n",
    "Notice we have the same varience, even though we have a differing mean.\n",
    "\n",
    "### Part D:\n",
    "A sample of traffic accidents per day along a 10-mile stretch of I-95 in Virginia that yielded the following results:\n",
    "\n",
    "| Number of Accidents | Frequency |\n",
    "|:-------------------:|:---------:|\n",
    "| 0 | 121 |\n",
    "| 1 | 199 |\n",
    "| 2 | 21 |\n",
    "| 3 | 12 |\n",
    "| 4 | 5 |\n",
    "| 5 | 4 |\n",
    "| 6 | 2 |\n",
    "| 7 | 1 |\n",
    "\n",
    "__Answer__: Using the poisson distribution, the expected value is equal to the variance: $E(X) = \\lambda = Var(X)$, which in this case, from observing the table, is $1$.\n",
    "\n",
    "## Question 4:\n",
    "We have been asked to collect 12 signatures for a petition that asks the state government for more money to clean up garbage on public land. The probability of getting a signature from a person approached is 0.40. After finding the mean and variance, answer the following: What is the probability we will have to approach exactly 30 people to get the 12 signatures?\n",
    "\n",
    "__Answer__: $P(n) = {n-1 \\choose r-1}p^r(1-p)^{n-r} = P(30) = {30-1 \\choose 12-1}(0.40)^{12}(0.60)^{30-12} = 0.0589$\n",
    "\n",
    "## Question 5:\n",
    "Suppose that we survey six people and find that two of them say they read a newspaper every day and the other four say they do not. We wish to determine the maximum likelihood estimate of $p$, or the probability of daily newspaper readings among this sample. Use the likelihood function for the binomial distribution to fill in the cell of the following table:\n",
    "\n",
    "|         | $i=2$ |\n",
    "|:-------:|:-----:|\n",
    "| $p = 0.1$ | ? |\n",
    "| $p = 0.2$ | ? |\n",
    "| $p = 0.3$ | ? |\n",
    "| $p = 0.4$ | ? |\n",
    "\n",
    "From this table, what is the most likely value of $p$?\n",
    "\n",
    "__Answer__: Using likelihood function for binomial distribution: $P(i) = {n \\choose i}p^i(1-p)^{n-1}$, $P(i) = {6 \\choose 2}p^2(1-p)^{6-1}$\n",
    "\n",
    "|         | $i=2$ |\n",
    "|:-------:|:-----:|\n",
    "| $p = 0.1$ | $P(0.1) = 0.0885735$ |\n",
    "| $p = 0.2$ | $P(0.2) = 0.196608$ |\n",
    "| $p = 0.3$ | $P(0.3) = 0.2268945$ |\n",
    "| $p = 0.4$ | $P(0.4) = 0.186624$ |\n",
    "\n",
    "The most likely value of $p$ is $0.3$.\n",
    "\n",
    "## Question 6:\n",
    "The Data file USData contains a number of variables from the 50 states in the United States. In this exercise we are interested in using linear regression to predict _violrate_, the rate of violent crimes such as murder, robbery, and assault per 100,000 population in 1995. We shall use the following independent variables: _unemprat_ (average monthly unemployment rate in 1995), _density_ (population density in 1995), and _gsprod_ (gross state product in 1995 -- a measure of the state's economic productivity). Estimate two linear regression models using MLE. The first model is the null model, while the second includes the three independent variables. Use the output from these models to compute the following fit statistics from the second model: McFadden adjusted $R^2$ and the pseudo-$R^2$. Then compute the AIC and BIC from both models."
   ]
  },
  {
   "cell_type": "code",
   "execution_count": 13,
   "metadata": {
    "collapsed": true
   },
   "outputs": [],
   "source": [
    "# For All Maths\n",
    "import numpy as np\n",
    "import pandas as pd\n",
    "from sas7bdat import SAS7BDAT\n",
    "import statsmodels.api as sm\n",
    "from patsy import dmatrices"
   ]
  },
  {
   "cell_type": "code",
   "execution_count": 26,
   "metadata": {
    "collapsed": false
   },
   "outputs": [
    {
     "data": {
      "text/html": [
       "<div>\n",
       "<table border=\"1\" class=\"dataframe\">\n",
       "  <thead>\n",
       "    <tr style=\"text-align: right;\">\n",
       "      <th></th>\n",
       "      <th>STATE</th>\n",
       "      <th>VIOLRATE</th>\n",
       "      <th>UNEMPRAT</th>\n",
       "      <th>DENSITY</th>\n",
       "      <th>GSPROD</th>\n",
       "    </tr>\n",
       "  </thead>\n",
       "  <tbody>\n",
       "    <tr>\n",
       "      <th>0</th>\n",
       "      <td>Alabama</td>\n",
       "      <td>632.35</td>\n",
       "      <td>5.1</td>\n",
       "      <td>84.15</td>\n",
       "      <td>94988</td>\n",
       "    </tr>\n",
       "    <tr>\n",
       "      <th>1</th>\n",
       "      <td>Alaska</td>\n",
       "      <td>770.86</td>\n",
       "      <td>7.8</td>\n",
       "      <td>1.05</td>\n",
       "      <td>23674</td>\n",
       "    </tr>\n",
       "    <tr>\n",
       "      <th>2</th>\n",
       "      <td>Arizona</td>\n",
       "      <td>713.49</td>\n",
       "      <td>5.5</td>\n",
       "      <td>37.90</td>\n",
       "      <td>103951</td>\n",
       "    </tr>\n",
       "    <tr>\n",
       "      <th>3</th>\n",
       "      <td>Arkansas</td>\n",
       "      <td>553.18</td>\n",
       "      <td>5.4</td>\n",
       "      <td>47.63</td>\n",
       "      <td>53358</td>\n",
       "    </tr>\n",
       "    <tr>\n",
       "      <th>4</th>\n",
       "      <td>California</td>\n",
       "      <td>966.01</td>\n",
       "      <td>7.2</td>\n",
       "      <td>201.78</td>\n",
       "      <td>913474</td>\n",
       "    </tr>\n",
       "  </tbody>\n",
       "</table>\n",
       "</div>"
      ],
      "text/plain": [
       "        STATE  VIOLRATE  UNEMPRAT  DENSITY  GSPROD\n",
       "0     Alabama    632.35       5.1    84.15   94988\n",
       "1      Alaska    770.86       7.8     1.05   23674\n",
       "2     Arizona    713.49       5.5    37.90  103951\n",
       "3    Arkansas    553.18       5.4    47.63   53358\n",
       "4  California    966.01       7.2   201.78  913474"
      ]
     },
     "execution_count": 26,
     "metadata": {},
     "output_type": "execute_result"
    }
   ],
   "source": [
    "# Load the data for this chapter\n",
    "with SAS7BDAT('usdata.sas7bdat') as f:\n",
    "    df = f.to_data_frame()\n",
    "\n",
    "df = df[[\"STATE\", \"VIOLRATE\", \"UNEMPRAT\", \"DENSITY\", \"GSPROD\"]]\n",
    "df.head()"
   ]
  },
  {
   "cell_type": "code",
   "execution_count": 33,
   "metadata": {
    "collapsed": false
   },
   "outputs": [
    {
     "name": "stdout",
     "output_type": "stream",
     "text": [
      "                 Generalized Linear Model Regression Results                  \n",
      "==============================================================================\n",
      "Dep. Variable:               VIOLRATE   No. Observations:                   50\n",
      "Model:                            GLM   Df Residuals:                       49\n",
      "Model Family:                Gaussian   Df Model:                            0\n",
      "Link Function:               identity   Scale:                   72487.5414926\n",
      "Method:                          IRLS   Log-Likelihood:                -350.22\n",
      "Date:                Sun, 23 Aug 2015   Deviance:                   3.5519e+06\n",
      "Time:                        13:54:08   Pearson chi2:                 3.55e+06\n",
      "No. Iterations:                     4                                         \n",
      "==============================================================================\n",
      "                 coef    std err          z      P>|z|      [95.0% Conf. Int.]\n",
      "------------------------------------------------------------------------------\n",
      "Intercept    539.4182     38.076     14.167      0.000       464.791   614.045\n",
      "==============================================================================\n"
     ]
    }
   ],
   "source": [
    "y, X = dmatrices('VIOLRATE ~ 1', data=df, return_type='dataframe')\n",
    "model = sm.GLM(y, X)\n",
    "results = model.fit()\n",
    "print results.summary()"
   ]
  },
  {
   "cell_type": "code",
   "execution_count": 34,
   "metadata": {
    "collapsed": false
   },
   "outputs": [
    {
     "name": "stdout",
     "output_type": "stream",
     "text": [
      "                Results: Generalized linear model\n",
      "=================================================================\n",
      "Model:              GLM              AIC:            702.4422    \n",
      "Link Function:      identity         BIC:            3551697.8440\n",
      "Dependent Variable: VIOLRATE         Log-Likelihood: -350.22     \n",
      "Date:               2015-08-23 13:55 LL-Null:        -350.22     \n",
      "No. Observations:   50               Deviance:       3.5519e+06  \n",
      "Df Model:           0                Pearson chi2:   3.55e+06    \n",
      "Df Residuals:       49               Scale:          72488.      \n",
      "Method:             IRLS                                         \n",
      "------------------------------------------------------------------\n",
      "            Coef.    Std.Err.     z     P>|z|    [0.025    0.975] \n",
      "------------------------------------------------------------------\n",
      "Intercept  539.4182   38.0756  14.1670  0.0000  464.7914  614.0450\n",
      "=================================================================\n",
      "\n"
     ]
    }
   ],
   "source": [
    "print results.summary2()"
   ]
  },
  {
   "cell_type": "code",
   "execution_count": 30,
   "metadata": {
    "collapsed": false
   },
   "outputs": [
    {
     "name": "stdout",
     "output_type": "stream",
     "text": [
      "                 Generalized Linear Model Regression Results                  \n",
      "==============================================================================\n",
      "Dep. Variable:               VIOLRATE   No. Observations:                   50\n",
      "Model:                            GLM   Df Residuals:                       46\n",
      "Model Family:                Gaussian   Df Model:                            3\n",
      "Link Function:               identity   Scale:                   50893.5006753\n",
      "Method:                          IRLS   Log-Likelihood:                -339.80\n",
      "Date:                Sun, 23 Aug 2015   Deviance:                   2.3411e+06\n",
      "Time:                        13:40:52   Pearson chi2:                 2.34e+06\n",
      "No. Iterations:                     4                                         \n",
      "==============================================================================\n",
      "                 coef    std err          z      P>|z|      [95.0% Conf. Int.]\n",
      "------------------------------------------------------------------------------\n",
      "Intercept     62.0352    137.957      0.450      0.653      -208.355   332.425\n",
      "UNEMPRAT      72.0617     26.258      2.744      0.006        20.596   123.527\n",
      "DENSITY        0.0421      0.140      0.300      0.764        -0.233     0.317\n",
      "GSPROD         0.0007      0.000      3.286      0.001         0.000     0.001\n",
      "==============================================================================\n"
     ]
    }
   ],
   "source": [
    "y, X = dmatrices('VIOLRATE ~ UNEMPRAT + DENSITY + GSPROD', data=df, return_type='dataframe')\n",
    "model = sm.GLM(y, X)\n",
    "results = model.fit()\n",
    "print results.summary()"
   ]
  },
  {
   "cell_type": "code",
   "execution_count": 32,
   "metadata": {
    "collapsed": false
   },
   "outputs": [
    {
     "name": "stdout",
     "output_type": "stream",
     "text": [
      "                Results: Generalized linear model\n",
      "=================================================================\n",
      "Model:              GLM              AIC:            687.5993    \n",
      "Link Function:      identity         BIC:            2340921.0780\n",
      "Dependent Variable: VIOLRATE         Log-Likelihood: -339.80     \n",
      "Date:               2015-08-23 13:49 LL-Null:        -350.22     \n",
      "No. Observations:   50               Deviance:       2.3411e+06  \n",
      "Df Model:           3                Pearson chi2:   2.34e+06    \n",
      "Df Residuals:       46               Scale:          50894.      \n",
      "Method:             IRLS                                         \n",
      "------------------------------------------------------------------\n",
      "             Coef.   Std.Err.    z     P>|z|     [0.025    0.975] \n",
      "------------------------------------------------------------------\n",
      "Intercept   62.0352  137.9565  0.4497  0.6529  -208.3546  332.4251\n",
      "UNEMPRAT    72.0617   26.2584  2.7443  0.0061    20.5962  123.5272\n",
      "DENSITY      0.0421    0.1404  0.3001  0.7641    -0.2330    0.3172\n",
      "GSPROD       0.0007    0.0002  3.2864  0.0010     0.0003    0.0011\n",
      "=================================================================\n",
      "\n"
     ]
    }
   ],
   "source": [
    "print results.summary2()"
   ]
  }
 ],
 "metadata": {
  "kernelspec": {
   "display_name": "Python 2",
   "language": "python",
   "name": "python2"
  },
  "language_info": {
   "codemirror_mode": {
    "name": "ipython",
    "version": 2
   },
   "file_extension": ".py",
   "mimetype": "text/x-python",
   "name": "python",
   "nbconvert_exporter": "python",
   "pygments_lexer": "ipython2",
   "version": "2.7.10"
  }
 },
 "nbformat": 4,
 "nbformat_minor": 0
}
